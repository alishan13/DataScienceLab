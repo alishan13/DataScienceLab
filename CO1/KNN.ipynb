{
  "cells": [
    {
      "cell_type": "markdown",
      "metadata": {
        "id": "view-in-github",
        "colab_type": "text"
      },
      "source": [
        "<a href=\"https://colab.research.google.com/github/alishan13/DataScienceLab/blob/main/CO1/KNN.ipynb\" target=\"_parent\"><img src=\"https://colab.research.google.com/assets/colab-badge.svg\" alt=\"Open In Colab\"/></a>"
      ]
    },
    {
      "cell_type": "markdown",
      "metadata": {
        "id": "1-G_D6HglkG5"
      },
      "source": [
        "Aim: Program to implement k-NN classification using any standard dataset\n",
        "available in the public domain and find the accuracy of the algorithm\n",
        "Use Iris dataset"
      ]
    },
    {
      "cell_type": "markdown",
      "metadata": {
        "id": "O4oCOHITmArc"
      },
      "source": [
        "Algorithm:\n",
        "\n",
        "The class of an unknown instance is computed using the following steps:\n",
        "\n",
        "1. The distance between the unknown instance and all other training instances is computed.\n",
        "2. The k nearest neighbors are identified.\n",
        "3. The class labels of the k nearest neighbors are used to determine the class label of the unknown instance by using techniques like majority voting."
      ]
    },
    {
      "cell_type": "code",
      "execution_count": null,
      "metadata": {
        "id": "IEpxOP01lnhy"
      },
      "outputs": [],
      "source": [
        "#import lobraries\n",
        "from sklearn import neighbors\n",
        "from sklearn.model_selection import train_test_split\n",
        "from sklearn.metrics import accuracy_score\n",
        "from sklearn.metrics import confusion_matrix\n",
        "from sklearn.metrics import classification_report"
      ]
    },
    {
      "cell_type": "code",
      "execution_count": null,
      "metadata": {
        "id": "-b2qoJFxwv6E"
      },
      "outputs": [],
      "source": [
        "#load dataset\n",
        "import pandas as pd\n",
        "df = pd.read_csv(\"/content/Iris.csv\")\n"
      ]
    },
    {
      "cell_type": "code",
      "execution_count": null,
      "metadata": {
        "id": "y3mQOVFsLA0V",
        "colab": {
          "base_uri": "https://localhost:8080/"
        },
        "outputId": "7c9e866f-9705-4cd1-e397-eed44feecd72"
      },
      "outputs": [
        {
          "output_type": "stream",
          "name": "stdout",
          "text": [
            "   Id  SepalLengthCm  SepalWidthCm  PetalLengthCm  PetalWidthCm\n",
            "0   1            5.1           3.5            1.4           0.2\n",
            "1   2            4.9           3.0            1.4           0.2\n",
            "2   3            4.7           3.2            1.3           0.2\n",
            "3   4            4.6           3.1            1.5           0.2\n",
            "4   5            5.0           3.6            1.4           0.2\n"
          ]
        }
      ],
      "source": [
        "#print first 5 records\n",
        "print(df.iloc[:5,:5]);\n"
      ]
    },
    {
      "cell_type": "code",
      "execution_count": null,
      "metadata": {
        "id": "3_SyKBbCuYer",
        "colab": {
          "base_uri": "https://localhost:8080/",
          "height": 206
        },
        "outputId": "8e15792c-e7a2-4603-c9b0-6fa943adc1c6"
      },
      "outputs": [
        {
          "output_type": "execute_result",
          "data": {
            "text/plain": [
              "   SepalLengthCm  SepalWidthCm  PetalLengthCm  PetalWidthCm\n",
              "0            5.1           3.5            1.4           0.2\n",
              "1            4.9           3.0            1.4           0.2\n",
              "2            4.7           3.2            1.3           0.2\n",
              "3            4.6           3.1            1.5           0.2\n",
              "4            5.0           3.6            1.4           0.2"
            ],
            "text/html": [
              "\n",
              "  <div id=\"df-0ba2bb34-bcef-468e-a45d-02c830f842cd\" class=\"colab-df-container\">\n",
              "    <div>\n",
              "<style scoped>\n",
              "    .dataframe tbody tr th:only-of-type {\n",
              "        vertical-align: middle;\n",
              "    }\n",
              "\n",
              "    .dataframe tbody tr th {\n",
              "        vertical-align: top;\n",
              "    }\n",
              "\n",
              "    .dataframe thead th {\n",
              "        text-align: right;\n",
              "    }\n",
              "</style>\n",
              "<table border=\"1\" class=\"dataframe\">\n",
              "  <thead>\n",
              "    <tr style=\"text-align: right;\">\n",
              "      <th></th>\n",
              "      <th>SepalLengthCm</th>\n",
              "      <th>SepalWidthCm</th>\n",
              "      <th>PetalLengthCm</th>\n",
              "      <th>PetalWidthCm</th>\n",
              "    </tr>\n",
              "  </thead>\n",
              "  <tbody>\n",
              "    <tr>\n",
              "      <th>0</th>\n",
              "      <td>5.1</td>\n",
              "      <td>3.5</td>\n",
              "      <td>1.4</td>\n",
              "      <td>0.2</td>\n",
              "    </tr>\n",
              "    <tr>\n",
              "      <th>1</th>\n",
              "      <td>4.9</td>\n",
              "      <td>3.0</td>\n",
              "      <td>1.4</td>\n",
              "      <td>0.2</td>\n",
              "    </tr>\n",
              "    <tr>\n",
              "      <th>2</th>\n",
              "      <td>4.7</td>\n",
              "      <td>3.2</td>\n",
              "      <td>1.3</td>\n",
              "      <td>0.2</td>\n",
              "    </tr>\n",
              "    <tr>\n",
              "      <th>3</th>\n",
              "      <td>4.6</td>\n",
              "      <td>3.1</td>\n",
              "      <td>1.5</td>\n",
              "      <td>0.2</td>\n",
              "    </tr>\n",
              "    <tr>\n",
              "      <th>4</th>\n",
              "      <td>5.0</td>\n",
              "      <td>3.6</td>\n",
              "      <td>1.4</td>\n",
              "      <td>0.2</td>\n",
              "    </tr>\n",
              "  </tbody>\n",
              "</table>\n",
              "</div>\n",
              "    <div class=\"colab-df-buttons\">\n",
              "\n",
              "  <div class=\"colab-df-container\">\n",
              "    <button class=\"colab-df-convert\" onclick=\"convertToInteractive('df-0ba2bb34-bcef-468e-a45d-02c830f842cd')\"\n",
              "            title=\"Convert this dataframe to an interactive table.\"\n",
              "            style=\"display:none;\">\n",
              "\n",
              "  <svg xmlns=\"http://www.w3.org/2000/svg\" height=\"24px\" viewBox=\"0 -960 960 960\">\n",
              "    <path d=\"M120-120v-720h720v720H120Zm60-500h600v-160H180v160Zm220 220h160v-160H400v160Zm0 220h160v-160H400v160ZM180-400h160v-160H180v160Zm440 0h160v-160H620v160ZM180-180h160v-160H180v160Zm440 0h160v-160H620v160Z\"/>\n",
              "  </svg>\n",
              "    </button>\n",
              "\n",
              "  <style>\n",
              "    .colab-df-container {\n",
              "      display:flex;\n",
              "      gap: 12px;\n",
              "    }\n",
              "\n",
              "    .colab-df-convert {\n",
              "      background-color: #E8F0FE;\n",
              "      border: none;\n",
              "      border-radius: 50%;\n",
              "      cursor: pointer;\n",
              "      display: none;\n",
              "      fill: #1967D2;\n",
              "      height: 32px;\n",
              "      padding: 0 0 0 0;\n",
              "      width: 32px;\n",
              "    }\n",
              "\n",
              "    .colab-df-convert:hover {\n",
              "      background-color: #E2EBFA;\n",
              "      box-shadow: 0px 1px 2px rgba(60, 64, 67, 0.3), 0px 1px 3px 1px rgba(60, 64, 67, 0.15);\n",
              "      fill: #174EA6;\n",
              "    }\n",
              "\n",
              "    .colab-df-buttons div {\n",
              "      margin-bottom: 4px;\n",
              "    }\n",
              "\n",
              "    [theme=dark] .colab-df-convert {\n",
              "      background-color: #3B4455;\n",
              "      fill: #D2E3FC;\n",
              "    }\n",
              "\n",
              "    [theme=dark] .colab-df-convert:hover {\n",
              "      background-color: #434B5C;\n",
              "      box-shadow: 0px 1px 3px 1px rgba(0, 0, 0, 0.15);\n",
              "      filter: drop-shadow(0px 1px 2px rgba(0, 0, 0, 0.3));\n",
              "      fill: #FFFFFF;\n",
              "    }\n",
              "  </style>\n",
              "\n",
              "    <script>\n",
              "      const buttonEl =\n",
              "        document.querySelector('#df-0ba2bb34-bcef-468e-a45d-02c830f842cd button.colab-df-convert');\n",
              "      buttonEl.style.display =\n",
              "        google.colab.kernel.accessAllowed ? 'block' : 'none';\n",
              "\n",
              "      async function convertToInteractive(key) {\n",
              "        const element = document.querySelector('#df-0ba2bb34-bcef-468e-a45d-02c830f842cd');\n",
              "        const dataTable =\n",
              "          await google.colab.kernel.invokeFunction('convertToInteractive',\n",
              "                                                    [key], {});\n",
              "        if (!dataTable) return;\n",
              "\n",
              "        const docLinkHtml = 'Like what you see? Visit the ' +\n",
              "          '<a target=\"_blank\" href=https://colab.research.google.com/notebooks/data_table.ipynb>data table notebook</a>'\n",
              "          + ' to learn more about interactive tables.';\n",
              "        element.innerHTML = '';\n",
              "        dataTable['output_type'] = 'display_data';\n",
              "        await google.colab.output.renderOutput(dataTable, element);\n",
              "        const docLink = document.createElement('div');\n",
              "        docLink.innerHTML = docLinkHtml;\n",
              "        element.appendChild(docLink);\n",
              "      }\n",
              "    </script>\n",
              "  </div>\n",
              "\n",
              "\n",
              "<div id=\"df-44eb9663-4ebb-47b2-96f0-aebe9a4457d7\">\n",
              "  <button class=\"colab-df-quickchart\" onclick=\"quickchart('df-44eb9663-4ebb-47b2-96f0-aebe9a4457d7')\"\n",
              "            title=\"Suggest charts.\"\n",
              "            style=\"display:none;\">\n",
              "\n",
              "<svg xmlns=\"http://www.w3.org/2000/svg\" height=\"24px\"viewBox=\"0 0 24 24\"\n",
              "     width=\"24px\">\n",
              "    <g>\n",
              "        <path d=\"M19 3H5c-1.1 0-2 .9-2 2v14c0 1.1.9 2 2 2h14c1.1 0 2-.9 2-2V5c0-1.1-.9-2-2-2zM9 17H7v-7h2v7zm4 0h-2V7h2v10zm4 0h-2v-4h2v4z\"/>\n",
              "    </g>\n",
              "</svg>\n",
              "  </button>\n",
              "\n",
              "<style>\n",
              "  .colab-df-quickchart {\n",
              "      --bg-color: #E8F0FE;\n",
              "      --fill-color: #1967D2;\n",
              "      --hover-bg-color: #E2EBFA;\n",
              "      --hover-fill-color: #174EA6;\n",
              "      --disabled-fill-color: #AAA;\n",
              "      --disabled-bg-color: #DDD;\n",
              "  }\n",
              "\n",
              "  [theme=dark] .colab-df-quickchart {\n",
              "      --bg-color: #3B4455;\n",
              "      --fill-color: #D2E3FC;\n",
              "      --hover-bg-color: #434B5C;\n",
              "      --hover-fill-color: #FFFFFF;\n",
              "      --disabled-bg-color: #3B4455;\n",
              "      --disabled-fill-color: #666;\n",
              "  }\n",
              "\n",
              "  .colab-df-quickchart {\n",
              "    background-color: var(--bg-color);\n",
              "    border: none;\n",
              "    border-radius: 50%;\n",
              "    cursor: pointer;\n",
              "    display: none;\n",
              "    fill: var(--fill-color);\n",
              "    height: 32px;\n",
              "    padding: 0;\n",
              "    width: 32px;\n",
              "  }\n",
              "\n",
              "  .colab-df-quickchart:hover {\n",
              "    background-color: var(--hover-bg-color);\n",
              "    box-shadow: 0 1px 2px rgba(60, 64, 67, 0.3), 0 1px 3px 1px rgba(60, 64, 67, 0.15);\n",
              "    fill: var(--button-hover-fill-color);\n",
              "  }\n",
              "\n",
              "  .colab-df-quickchart-complete:disabled,\n",
              "  .colab-df-quickchart-complete:disabled:hover {\n",
              "    background-color: var(--disabled-bg-color);\n",
              "    fill: var(--disabled-fill-color);\n",
              "    box-shadow: none;\n",
              "  }\n",
              "\n",
              "  .colab-df-spinner {\n",
              "    border: 2px solid var(--fill-color);\n",
              "    border-color: transparent;\n",
              "    border-bottom-color: var(--fill-color);\n",
              "    animation:\n",
              "      spin 1s steps(1) infinite;\n",
              "  }\n",
              "\n",
              "  @keyframes spin {\n",
              "    0% {\n",
              "      border-color: transparent;\n",
              "      border-bottom-color: var(--fill-color);\n",
              "      border-left-color: var(--fill-color);\n",
              "    }\n",
              "    20% {\n",
              "      border-color: transparent;\n",
              "      border-left-color: var(--fill-color);\n",
              "      border-top-color: var(--fill-color);\n",
              "    }\n",
              "    30% {\n",
              "      border-color: transparent;\n",
              "      border-left-color: var(--fill-color);\n",
              "      border-top-color: var(--fill-color);\n",
              "      border-right-color: var(--fill-color);\n",
              "    }\n",
              "    40% {\n",
              "      border-color: transparent;\n",
              "      border-right-color: var(--fill-color);\n",
              "      border-top-color: var(--fill-color);\n",
              "    }\n",
              "    60% {\n",
              "      border-color: transparent;\n",
              "      border-right-color: var(--fill-color);\n",
              "    }\n",
              "    80% {\n",
              "      border-color: transparent;\n",
              "      border-right-color: var(--fill-color);\n",
              "      border-bottom-color: var(--fill-color);\n",
              "    }\n",
              "    90% {\n",
              "      border-color: transparent;\n",
              "      border-bottom-color: var(--fill-color);\n",
              "    }\n",
              "  }\n",
              "</style>\n",
              "\n",
              "  <script>\n",
              "    async function quickchart(key) {\n",
              "      const quickchartButtonEl =\n",
              "        document.querySelector('#' + key + ' button');\n",
              "      quickchartButtonEl.disabled = true;  // To prevent multiple clicks.\n",
              "      quickchartButtonEl.classList.add('colab-df-spinner');\n",
              "      try {\n",
              "        const charts = await google.colab.kernel.invokeFunction(\n",
              "            'suggestCharts', [key], {});\n",
              "      } catch (error) {\n",
              "        console.error('Error during call to suggestCharts:', error);\n",
              "      }\n",
              "      quickchartButtonEl.classList.remove('colab-df-spinner');\n",
              "      quickchartButtonEl.classList.add('colab-df-quickchart-complete');\n",
              "    }\n",
              "    (() => {\n",
              "      let quickchartButtonEl =\n",
              "        document.querySelector('#df-44eb9663-4ebb-47b2-96f0-aebe9a4457d7 button');\n",
              "      quickchartButtonEl.style.display =\n",
              "        google.colab.kernel.accessAllowed ? 'block' : 'none';\n",
              "    })();\n",
              "  </script>\n",
              "</div>\n",
              "    </div>\n",
              "  </div>\n"
            ]
          },
          "metadata": {},
          "execution_count": 10
        }
      ],
      "source": [
        "#separate features and target\n",
        "x=df.iloc[:,1:5]\n",
        "y=df.iloc[:,-1]\n",
        "x.head()\n",
        "\n"
      ]
    },
    {
      "cell_type": "code",
      "execution_count": null,
      "metadata": {
        "id": "vG_5vIBUy6Kc"
      },
      "outputs": [],
      "source": [
        "#split test and training set as x_train,x_test,y_train,y_test\n",
        "x_train,x_test,y_train,y_test=train_test_split(x,y,test_size=0.3,random_state=1)\n",
        "\n",
        "\n"
      ]
    },
    {
      "cell_type": "code",
      "execution_count": null,
      "metadata": {
        "id": "k1PedkzeyAfX",
        "colab": {
          "base_uri": "https://localhost:8080/"
        },
        "outputId": "45f8531e-451a-4567-fed5-d7cdbbf2bb7f"
      },
      "outputs": [
        {
          "output_type": "stream",
          "name": "stdout",
          "text": [
            "(150, 4)\n",
            "(150,)\n",
            "(105, 4)\n",
            "(45, 4)\n",
            "     SepalLengthCm  SepalWidthCm  PetalLengthCm  PetalWidthCm\n",
            "14             5.8           4.0            1.2           0.2\n",
            "98             5.1           2.5            3.0           1.1\n",
            "75             6.6           3.0            4.4           1.4\n",
            "16             5.4           3.9            1.3           0.4\n",
            "131            7.9           3.8            6.4           2.0\n",
            "56             6.3           3.3            4.7           1.6\n",
            "141            6.9           3.1            5.1           2.3\n",
            "44             5.1           3.8            1.9           0.4\n",
            "29             4.7           3.2            1.6           0.2\n",
            "120            6.9           3.2            5.7           2.3\n",
            "94             5.6           2.7            4.2           1.3\n",
            "5              5.4           3.9            1.7           0.4\n",
            "102            7.1           3.0            5.9           2.1\n",
            "51             6.4           3.2            4.5           1.5\n",
            "78             6.0           2.9            4.5           1.5\n",
            "42             4.4           3.2            1.3           0.2\n",
            "92             5.8           2.6            4.0           1.2\n",
            "66             5.6           3.0            4.5           1.5\n",
            "31             5.4           3.4            1.5           0.4\n",
            "35             5.0           3.2            1.2           0.2\n",
            "90             5.5           2.6            4.4           1.2\n",
            "84             5.4           3.0            4.5           1.5\n",
            "77             6.7           3.0            5.0           1.7\n",
            "40             5.0           3.5            1.3           0.3\n",
            "125            7.2           3.2            6.0           1.8\n",
            "99             5.7           2.8            4.1           1.3\n",
            "33             5.5           4.2            1.4           0.2\n",
            "19             5.1           3.8            1.5           0.3\n",
            "73             6.1           2.8            4.7           1.2\n",
            "146            6.3           2.5            5.0           1.9\n",
            "91             6.1           3.0            4.6           1.4\n",
            "135            7.7           3.0            6.1           2.3\n",
            "69             5.6           2.5            3.9           1.1\n",
            "128            6.4           2.8            5.6           2.1\n",
            "114            5.8           2.8            5.1           2.4\n",
            "48             5.3           3.7            1.5           0.2\n",
            "53             5.5           2.3            4.0           1.3\n",
            "28             5.2           3.4            1.4           0.2\n",
            "54             6.5           2.8            4.6           1.5\n",
            "108            6.7           2.5            5.8           1.8\n",
            "112            6.8           3.0            5.5           2.1\n",
            "17             5.1           3.5            1.4           0.3\n",
            "119            6.0           2.2            5.0           1.5\n",
            "103            6.3           2.9            5.6           1.8\n",
            "58             6.6           2.9            4.6           1.3\n",
            "(150, 4)\n",
            "(150,)\n",
            "(105, 4)\n",
            "(45, 4)\n",
            "     SepalLengthCm  SepalWidthCm  PetalLengthCm  PetalWidthCm\n",
            "14             5.8           4.0            1.2           0.2\n",
            "98             5.1           2.5            3.0           1.1\n",
            "75             6.6           3.0            4.4           1.4\n",
            "16             5.4           3.9            1.3           0.4\n",
            "131            7.9           3.8            6.4           2.0\n",
            "56             6.3           3.3            4.7           1.6\n",
            "141            6.9           3.1            5.1           2.3\n",
            "44             5.1           3.8            1.9           0.4\n",
            "29             4.7           3.2            1.6           0.2\n",
            "120            6.9           3.2            5.7           2.3\n",
            "94             5.6           2.7            4.2           1.3\n",
            "5              5.4           3.9            1.7           0.4\n",
            "102            7.1           3.0            5.9           2.1\n",
            "51             6.4           3.2            4.5           1.5\n",
            "78             6.0           2.9            4.5           1.5\n",
            "42             4.4           3.2            1.3           0.2\n",
            "92             5.8           2.6            4.0           1.2\n",
            "66             5.6           3.0            4.5           1.5\n",
            "31             5.4           3.4            1.5           0.4\n",
            "35             5.0           3.2            1.2           0.2\n",
            "90             5.5           2.6            4.4           1.2\n",
            "84             5.4           3.0            4.5           1.5\n",
            "77             6.7           3.0            5.0           1.7\n",
            "40             5.0           3.5            1.3           0.3\n",
            "125            7.2           3.2            6.0           1.8\n",
            "99             5.7           2.8            4.1           1.3\n",
            "33             5.5           4.2            1.4           0.2\n",
            "19             5.1           3.8            1.5           0.3\n",
            "73             6.1           2.8            4.7           1.2\n",
            "146            6.3           2.5            5.0           1.9\n",
            "91             6.1           3.0            4.6           1.4\n",
            "135            7.7           3.0            6.1           2.3\n",
            "69             5.6           2.5            3.9           1.1\n",
            "128            6.4           2.8            5.6           2.1\n",
            "114            5.8           2.8            5.1           2.4\n",
            "48             5.3           3.7            1.5           0.2\n",
            "53             5.5           2.3            4.0           1.3\n",
            "28             5.2           3.4            1.4           0.2\n",
            "54             6.5           2.8            4.6           1.5\n",
            "108            6.7           2.5            5.8           1.8\n",
            "112            6.8           3.0            5.5           2.1\n",
            "17             5.1           3.5            1.4           0.3\n",
            "119            6.0           2.2            5.0           1.5\n",
            "103            6.3           2.9            5.6           1.8\n",
            "58             6.6           2.9            4.6           1.3\n"
          ]
        }
      ],
      "source": [
        "#print the shape of trainig and test inputs\n",
        "print(x.shape)\n",
        "print(y.shape)\n",
        "print(x_train.shape)\n",
        "print(x_test.shape)\n",
        "print(x_test)"
      ]
    },
    {
      "cell_type": "code",
      "execution_count": null,
      "metadata": {
        "id": "wvEyQG8h5372"
      },
      "outputs": [],
      "source": [
        "#  Train kNN  model for 'k = '.\n",
        "knn=neighbors.KNeighborsClassifier(n_neighbors=10)\n",
        "knn.fit(x_train,y_train)\n",
        "ypredict=knn.predict(x_test)\n"
      ]
    },
    {
      "cell_type": "code",
      "execution_count": null,
      "metadata": {
        "id": "Lappjoo8eZ51",
        "colab": {
          "base_uri": "https://localhost:8080/"
        },
        "outputId": "5cff61b4-c1dc-4224-fc88-550bc691455d"
      },
      "outputs": [
        {
          "output_type": "stream",
          "name": "stdout",
          "text": [
            "Accuracy :  0.9777777777777777\n",
            "Confusion Matrix\n",
            "[[14  0  0]\n",
            " [ 0 17  1]\n",
            " [ 0  0 13]]\n",
            "                 precision    recall  f1-score   support\n",
            "\n",
            "    Iris-setosa       1.00      1.00      1.00        14\n",
            "Iris-versicolor       1.00      0.94      0.97        18\n",
            " Iris-virginica       0.93      1.00      0.96        13\n",
            "\n",
            "       accuracy                           0.98        45\n",
            "      macro avg       0.98      0.98      0.98        45\n",
            "   weighted avg       0.98      0.98      0.98        45\n",
            "\n"
          ]
        }
      ],
      "source": [
        "\n",
        "# Call the 'score()' function to check the accuracy score of the train set and test set -Accuracy, confusion matrix, classification report.\n",
        "print(\"Accuracy : \",accuracy_score(y_test,ypredict))\n",
        "print(\"Confusion Matrix\")\n",
        "print(confusion_matrix(y_test,ypredict))\n",
        "print(classification_report(y_test,ypredict))"
      ]
    },
    {
      "cell_type": "code",
      "execution_count": null,
      "metadata": {
        "id": "QMtqaFEEdfuB",
        "colab": {
          "base_uri": "https://localhost:8080/"
        },
        "outputId": "07933fab-fb7c-42b2-bd91-d0b573dabaa0"
      },
      "outputs": [
        {
          "output_type": "stream",
          "name": "stdout",
          "text": [
            "['Iris-setosa']\n"
          ]
        },
        {
          "output_type": "stream",
          "name": "stderr",
          "text": [
            "/usr/local/lib/python3.10/dist-packages/sklearn/base.py:439: UserWarning: X does not have valid feature names, but KNeighborsClassifier was fitted with feature names\n",
            "  warnings.warn(\n"
          ]
        }
      ],
      "source": [
        "#pridict the Species of  an unkown input\n",
        "unknown=[[2,3,2,2]]\n",
        "ypred=knn.predict(unknown)\n",
        "print(ypred)"
      ]
    }
  ],
  "metadata": {
    "colab": {
      "provenance": [],
      "include_colab_link": true
    },
    "kernelspec": {
      "display_name": "Python 3",
      "name": "python3"
    },
    "language_info": {
      "name": "python"
    }
  },
  "nbformat": 4,
  "nbformat_minor": 0
}